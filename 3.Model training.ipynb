{
 "cells": [
  {
   "cell_type": "code",
   "execution_count": 202,
   "id": "fac9c880-1df6-460f-a025-770a3235ac4e",
   "metadata": {},
   "outputs": [],
   "source": [
    "import warnings\n",
    "warnings.filterwarnings('ignore')\n",
    "# Import libraries\n",
    "import pandas                        as pd\n",
    "import numpy                         as np\n",
    "import seaborn                       as sns\n",
    "import matplotlib.pyplot             as plt\n",
    "\n",
    "# sklearn\n",
    "from sklearn.preprocessing           import StandardScaler\n",
    "from sklearn.pipeline                import Pipeline\n",
    "from sklearn.linear_model            import LogisticRegression\n",
    "from sklearn.naive_bayes             import MultinomialNB\n",
    "from sklearn.ensemble                import RandomForestClassifier\n",
    "from sklearn.model_selection         import train_test_split, GridSearchCV\n",
    "from sklearn.feature_extraction.text import CountVectorizer, TfidfVectorizer\n",
    "from sklearn.feature_extraction      import DictVectorizer\n",
    "from sklearn.metrics                 import confusion_matrix, \\\n",
    "                                            ConfusionMatrixDisplay\n",
    "\n",
    "from nltk.stem import WordNetLemmatizer \n",
    "from textblob import Word\n",
    "import string\n",
    "from nltk.corpus import stopwords\n",
    "eng_stopwords = set(stopwords.words(\"english\"))"
   ]
  },
  {
   "cell_type": "code",
   "execution_count": 203,
   "id": "68213c67-fbfb-4329-8f3b-d4f428fc6355",
   "metadata": {},
   "outputs": [],
   "source": [
    "# Read in .csv files of NFL and NCAA\n",
    "df1 = pd.read_csv('data/nfl.csv')\n",
    "df2 = pd.read_csv('data/ncaa.csv')\n",
    "# Merge two dataframes\n",
    "df = pd.concat([df1, df2], axis=0)\n",
    "df = df.reset_index(drop=True)\n",
    "# rename data in subreddit column\n",
    "df.rename(columns = {'subreddit':'is_nfl'}, inplace = True)\n",
    "# Create label column\n",
    "df['is_nfl'] = df['is_nfl'].map({'nfl':1, 'NCAA':0})"
   ]
  },
  {
   "cell_type": "code",
   "execution_count": 204,
   "id": "e9002fdf-7969-46cf-9e68-751d170318b8",
   "metadata": {},
   "outputs": [
    {
     "data": {
      "text/plain": [
       "1    50.63\n",
       "0    49.37\n",
       "Name: is_nfl, dtype: float64"
      ]
     },
     "execution_count": 204,
     "metadata": {},
     "output_type": "execute_result"
    }
   ],
   "source": [
    "# Baseline score\n",
    "df['is_nfl'].value_counts(normalize=True).mul(100).round(2)"
   ]
  },
  {
   "cell_type": "code",
   "execution_count": 205,
   "id": "783101b9-855c-44a1-a6c3-28a6995bcd3a",
   "metadata": {},
   "outputs": [],
   "source": [
    "df.drop_duplicates(subset='title', keep='first', inplace=True, ignore_index=True)"
   ]
  },
  {
   "cell_type": "markdown",
   "id": "dedce81a-184b-4d2c-a122-3084f544a475",
   "metadata": {
    "jp-MarkdownHeadingCollapsed": true,
    "tags": []
   },
   "source": [
    "### First Model"
   ]
  },
  {
   "cell_type": "markdown",
   "id": "bf2cba8c-5036-4548-9908-8fec7acc28c7",
   "metadata": {},
   "source": [
    "- Feature = 'title', no dropping crossover words"
   ]
  },
  {
   "cell_type": "code",
   "execution_count": 206,
   "id": "c5745164-c317-4bbd-b0b3-c1107b0c7e09",
   "metadata": {},
   "outputs": [],
   "source": [
    "# Set X and y\n",
    "X = df['title']\n",
    "y = df['is_nfl']\n",
    "# Train (80%) Test (20%) split \n",
    "X_train, X_test, y_train, y_test = train_test_split(X, y, test_size=0.2, \n",
    "                                                    random_state=42,\n",
    "                                                    stratify=y)"
   ]
  },
  {
   "cell_type": "code",
   "execution_count": 207,
   "id": "051e44ae-ea92-4ae2-aa0d-0e58e8c82be2",
   "metadata": {},
   "outputs": [
    {
     "name": "stdout",
     "output_type": "stream",
     "text": [
      "CountVectorizer+LogisticRegression: 0.9394564594456007\n",
      "Best params:{'cv__max_features': 900, 'cv__ngram_range': (1, 2), 'cv__stop_words': 'english'}\n",
      "\n",
      "CountVectorizer+NaiveBayes:         0.9192441106385546\n",
      "Best params:{'cv__max_features': 1000, 'cv__ngram_range': (1, 1), 'cv__stop_words': None}\n",
      "\n",
      "CountVectorizer+RandomForest:       0.9231623080867493\n",
      "Best params:{'cv__max_features': 600, 'cv__ngram_range': (1, 1), 'cv__stop_words': None}\n",
      "\n",
      "TfidVectorizer+LogisticRegression:  0.9371308780502519\n",
      "Best params:{'tv__max_features': 800, 'tv__ngram_range': (1, 3), 'tv__stop_words': 'english'}\n",
      "\n",
      "TfidVectorizer+NaiveBayes:          0.9223388531957892\n",
      "Best params:{'tv__max_features': 1000, 'tv__ngram_range': (1, 1), 'tv__stop_words': None}\n",
      "\n",
      "TfidVectorizer+RandomForest:        0.924700630410521\n",
      "Best params:{'tv__max_features': 900, 'tv__ngram_range': (1, 1), 'tv__stop_words': None}\n",
      "\n"
     ]
    }
   ],
   "source": [
    "# CountVectorizer with Logistic Regression, NaiveBayes, and RandomForest\n",
    "pipe1 = Pipeline([('cv', CountVectorizer()),('lr', LogisticRegression())])\n",
    "\n",
    "pipe1_params = {'cv__max_features': range(100,1001,100),\n",
    "                'cv__stop_words':   [None,'english'],\n",
    "                'cv__ngram_range':  [(1,1),(1,2),(1,3)],\n",
    "              } \n",
    "\n",
    "grid1 = GridSearchCV(pipe1,pipe1_params,cv=5)\n",
    "grid1.fit(X_train, y_train)\n",
    "print(f'CountVectorizer+LogisticRegression: {grid1.best_score_}')\n",
    "print(f'Best params:{grid1.best_params_}')\n",
    "print('')                                       \n",
    "# ==========================================================================\n",
    "pipe2 = Pipeline([('cv', CountVectorizer()),('mb', MultinomialNB())])\n",
    "\n",
    "pipe2_params = {'cv__max_features': range(100,1001,100),\n",
    "                'cv__stop_words':   [None,'english'],\n",
    "                'cv__ngram_range':  [(1,1),(1,2),(1,3)],\n",
    "              } \n",
    "\n",
    "grid2 = GridSearchCV(pipe2,pipe2_params,cv=5)\n",
    "grid2.fit(X_train, y_train)\n",
    "print(f'CountVectorizer+NaiveBayes:         {grid2.best_score_}')\n",
    "print(f'Best params:{grid2.best_params_}')\n",
    "print('')\n",
    "# ==========================================================================\n",
    "pipe3 = Pipeline([('cv', CountVectorizer()),('rf', RandomForestClassifier())])\n",
    "\n",
    "pipe3_params = {'cv__max_features': range(100,1001,100),\n",
    "                'cv__stop_words':   [None,'english'],\n",
    "                'cv__ngram_range':  [(1,1),(1,2),(1,3)],\n",
    "              } \n",
    "\n",
    "grid3 = GridSearchCV(pipe3,pipe3_params,cv=5)\n",
    "grid3.fit(X_train, y_train)\n",
    "print(f'CountVectorizer+RandomForest:       {grid3.best_score_}')\n",
    "print(f'Best params:{grid3.best_params_}')\n",
    "print('')\n",
    "# =========================================================================\n",
    "\n",
    "# TfidVectorizer with Logistic Regression, NaiveBayes, and RandomForest\n",
    "\n",
    "pipe4 = Pipeline([('tv', TfidfVectorizer()),('lr', LogisticRegression())])\n",
    "\n",
    "pipe4_params = {'tv__max_features': range(100,1001,100),\n",
    "                'tv__stop_words':   [None,'english'],\n",
    "                'tv__ngram_range':  [(1,1),(1,2),(1,3)],\n",
    "              } \n",
    "\n",
    "grid4 = GridSearchCV(pipe4,pipe4_params,cv=5)\n",
    "grid4.fit(X_train, y_train)\n",
    "print(f'TfidVectorizer+LogisticRegression:  {grid4.best_score_}')\n",
    "print(f'Best params:{grid4.best_params_}')\n",
    "print('')\n",
    "# ==========================================================================\n",
    "pipe5 = Pipeline([('tv', TfidfVectorizer()),('mb', MultinomialNB())])\n",
    "\n",
    "pipe5_params = {'tv__max_features': range(100,1001,100),\n",
    "                'tv__stop_words':   [None,'english'],\n",
    "                'tv__ngram_range':  [(1,1),(1,2),(1,3)],\n",
    "              } \n",
    "\n",
    "grid5 = GridSearchCV(pipe5,pipe5_params,cv=5)\n",
    "grid5.fit(X_train, y_train)\n",
    "print(f'TfidVectorizer+NaiveBayes:          {grid5.best_score_}')\n",
    "print(f'Best params:{grid5.best_params_}')\n",
    "print('')\n",
    "# ==========================================================================\n",
    "pipe6 = Pipeline([('tv', TfidfVectorizer()),('rf', RandomForestClassifier())])\n",
    "\n",
    "pipe6_params = {'tv__max_features': range(100,1001,100),\n",
    "                'tv__stop_words':   [None,'english'],\n",
    "                'tv__ngram_range':  [(1,1),(1,2),(1,3)],\n",
    "              } \n",
    "\n",
    "grid6 = GridSearchCV(pipe6,pipe6_params,cv=5)\n",
    "grid6.fit(X_train, y_train)\n",
    "print(f'TfidVectorizer+RandomForest:        {grid6.best_score_}')\n",
    "print(f'Best params:{grid6.best_params_}')\n",
    "print('')"
   ]
  },
  {
   "cell_type": "code",
   "execution_count": 208,
   "id": "55ef82db-7854-4e1b-a5b3-a34fdac8ed88",
   "metadata": {},
   "outputs": [
    {
     "name": "stdout",
     "output_type": "stream",
     "text": [
      "Training Score: 0.9821428571428571\n",
      "Testing Score:  0.9411764705882353\n"
     ]
    }
   ],
   "source": [
    "# Check overfitting form best score model\n",
    "vc = CountVectorizer(max_features=900, ngram_range=(1,2), stop_words='english')\n",
    "X_train_vc = vc.fit_transform(X_train)\n",
    "X_test_vc  = vc.transform(X_test)\n",
    "lr = LogisticRegression()\n",
    "lr.fit(X_train_vc,y_train)\n",
    "print(f'Training Score: {lr.score(X_train_vc,y_train)}')\n",
    "print(f'Testing Score:  {lr.score(X_test_vc,y_test)}')"
   ]
  },
  {
   "cell_type": "code",
   "execution_count": 209,
   "id": "5522273d-6782-4123-8087-3694cea1a19a",
   "metadata": {},
   "outputs": [
    {
     "name": "stdout",
     "output_type": "stream",
     "text": [
      "\n",
      "Specifivity: 0.9685534591194969\n"
     ]
    }
   ],
   "source": [
    "# Get predictions from best model\n",
    "# TfidVectorizer + LogisticRegression\n",
    "y_pred = grid1.predict(X_test)\n",
    "# Save confusion matrix values\n",
    "cm = confusion_matrix(y_test, y_pred)\n",
    "tn, fp, fn, tp = confusion_matrix(y_test, y_pred).ravel()\n",
    "# Calculate the specificity\n",
    "spec = tn/(tn+fp)\n",
    "print()\n",
    "print(f'Specifivity: {spec}')"
   ]
  },
  {
   "cell_type": "code",
   "execution_count": 210,
   "id": "8e0c9e0b-d0e1-4719-8099-05ceba959f36",
   "metadata": {},
   "outputs": [
    {
     "data": {
      "image/png": "[encoded data removed]",
      "text/plain": [
       "<Figure size 432x288 with 2 Axes>"
      ]
     },
     "metadata": {
      "needs_background": "light"
     },
     "output_type": "display_data"
    }
   ],
   "source": [
    "ConfusionMatrixDisplay(confusion_matrix=cm,\n",
    "                      display_labels=grid4.classes_).plot(cmap=plt.cm.Blues);"
   ]
  },
  {
   "cell_type": "markdown",
   "id": "392675e8-75f5-4e0b-8e4a-c78b83f74672",
   "metadata": {
    "jp-MarkdownHeadingCollapsed": true,
    "tags": []
   },
   "source": [
    "### Error analysis: First Model"
   ]
  },
  {
   "cell_type": "markdown",
   "id": "79190fd9-003b-47e2-8099-3ff801c8cbfb",
   "metadata": {},
   "source": [
    "- Hypothesis: crossover words in both nfl and ncaa dataframe"
   ]
  },
  {
   "cell_type": "code",
   "execution_count": 211,
   "id": "5910d0c0-6af2-4cc6-a909-709ba795d255",
   "metadata": {},
   "outputs": [
    {
     "data": {
      "text/plain": [
       "False    80.38\n",
       "True     19.62\n",
       "dtype: float64"
      ]
     },
     "execution_count": 211,
     "metadata": {},
     "output_type": "execute_result"
    }
   ],
   "source": [
    "df.apply(lambda row: row.astype(str).str.contains('game', 'team').any(), \n",
    "         axis=1).value_counts(normalize=True).mul(100).round(2)"
   ]
  },
  {
   "cell_type": "code",
   "execution_count": 212,
   "id": "545642ff-55e8-40a9-b0e6-ae63fa70ff6c",
   "metadata": {},
   "outputs": [
    {
     "data": {
      "text/plain": [
       "9.09"
      ]
     },
     "execution_count": 212,
     "metadata": {},
     "output_type": "execute_result"
    }
   ],
   "source": [
    "(fn/tn*100).round(2)"
   ]
  },
  {
   "cell_type": "markdown",
   "id": "ad6551fe-997b-45fe-933b-75652e2818ca",
   "metadata": {},
   "source": [
    "- 19.62 % of words and 15.28% of false-negative/true-negative"
   ]
  },
  {
   "cell_type": "markdown",
   "id": "48c9bb47-5dd1-4ef7-a8d4-5e519c5aa3ce",
   "metadata": {
    "jp-MarkdownHeadingCollapsed": true,
    "tags": []
   },
   "source": [
    "### Second Model"
   ]
  },
  {
   "cell_type": "markdown",
   "id": "36df71fc-853e-4782-b386-4693a4f21e12",
   "metadata": {},
   "source": [
    "- First Model + drop common words from NFL and NCAA (18 + 2 crossover words)"
   ]
  },
  {
   "cell_type": "code",
   "execution_count": 213,
   "id": "1e090394-be42-4ea2-a306-f435bf1e7c23",
   "metadata": {},
   "outputs": [
    {
     "data": {
      "text/plain": [
       "0    post game thread cincinnati bengals 23 at balt...\n",
       "1    game thread cincinnati bengals 22 at baltimore...\n",
       "2    highlight cardinals miss the field goal and ea...\n",
       "3        highlight roughing the passer called stunning\n",
       "4    stat muse cooper rush is 50 as a starter only ...\n",
       "Name: title, dtype: object"
      ]
     },
     "execution_count": 213,
     "metadata": {},
     "output_type": "execute_result"
    }
   ],
   "source": [
    "# lower case and clean special characters \n",
    "df['title'] = df['title'].apply(lambda x: \" \".join(x.lower() for x in x.split()))\n",
    "df['title'] = df['title'].str.replace('[^\\w\\s]','')\n",
    "df['title'].head()"
   ]
  },
  {
   "cell_type": "code",
   "execution_count": 214,
   "id": "f360b963-db2f-4154-b754-02236fc7a76f",
   "metadata": {},
   "outputs": [],
   "source": [
    "# Set X and y\n",
    "X = df['title']\n",
    "y = df['is_nfl']\n",
    "# Train (80%) Test (20%) split \n",
    "X_train, X_test, y_train, y_test = train_test_split(X, y, test_size=0.2, \n",
    "                                                    random_state=42,\n",
    "                                                    stratify=y)"
   ]
  },
  {
   "cell_type": "code",
   "execution_count": 215,
   "id": "e8eaecff-d768-43d3-a916-5dbe776290f4",
   "metadata": {},
   "outputs": [],
   "source": [
    "# CounterVectorize NFL and NCAA titles\n",
    "cvec = CountVectorizer(stop_words='english')\n",
    "df1_cvec= cvec.fit_transform(df1['title'])\n",
    "df1_cvec = pd.DataFrame(df1_cvec.todense(), columns=cvec.get_feature_names_out())\n",
    "df2_cvec= cvec.fit_transform(df2['title'])\n",
    "df2_cvec = pd.DataFrame(df2_cvec.todense(), columns=cvec.get_feature_names_out())\n",
    "# Find and make a list of top 10 common words\n",
    "freq1 = pd.Series(df1_cvec.sum().sort_values(ascending =False)[:10])\n",
    "freq1 = list(freq1.index) \n",
    "freq2 = pd.Series(df2_cvec.sum().sort_values(ascending =False)[:10])\n",
    "freq2 = list(freq2.index)"
   ]
  },
  {
   "cell_type": "code",
   "execution_count": 216,
   "id": "85ccb2b4-c668-40b1-9f35-17f424193248",
   "metadata": {},
   "outputs": [],
   "source": [
    "# Drop frequent words from NFL and NCAA\n",
    "X_train = X_train.str.lower().apply(lambda x: \" \".join(x for x in x.split() if x not in freq1 + freq2))"
   ]
  },
  {
   "cell_type": "code",
   "execution_count": 217,
   "id": "b1405bf4-ceb0-43c5-a245-ea12abb2d4a3",
   "metadata": {},
   "outputs": [
    {
     "name": "stdout",
     "output_type": "stream",
     "text": [
      "CountVectorizer+LogisticRegression: 0.8850843060959793\n",
      "Best params:{'cv__max_features': 900, 'cv__ngram_range': (1, 1), 'cv__stop_words': 'english'}\n",
      "\n",
      "CountVectorizer+NaiveBayes:         0.8563659397339608\n",
      "Best params:{'cv__max_features': 1000, 'cv__ngram_range': (1, 1), 'cv__stop_words': None}\n",
      "\n",
      "CountVectorizer+RandomForest:       0.8586704069013363\n",
      "Best params:{'cv__max_features': 600, 'cv__ngram_range': (1, 2), 'cv__stop_words': 'english'}\n",
      "\n",
      "TfidVectorizer+LogisticRegression:  0.8866527916025699\n",
      "Best params:{'tv__max_features': 900, 'tv__ngram_range': (1, 1), 'tv__stop_words': 'english'}\n",
      "\n",
      "TfidVectorizer+NaiveBayes:          0.858679455856182\n",
      "Best params:{'tv__max_features': 1000, 'tv__ngram_range': (1, 1), 'tv__stop_words': None}\n",
      "\n",
      "TfidVectorizer+RandomForest:        0.8540162277923568\n",
      "Best params:{'tv__max_features': 800, 'tv__ngram_range': (1, 2), 'tv__stop_words': 'english'}\n",
      "\n"
     ]
    }
   ],
   "source": [
    "# CountVectorizer with Logistic Regression, NaiveBayes, and RandomForest\n",
    "pipe1 = Pipeline([('cv', CountVectorizer()),('lr', LogisticRegression())])\n",
    "\n",
    "pipe1_params = {'cv__max_features': range(100,1001,100),\n",
    "                'cv__stop_words':   [None,'english'],\n",
    "                'cv__ngram_range':  [(1,1),(1,2),(1,3)],\n",
    "              } \n",
    "\n",
    "grid1 = GridSearchCV(pipe1,pipe1_params,cv=5)\n",
    "grid1.fit(X_train, y_train)\n",
    "print(f'CountVectorizer+LogisticRegression: {grid1.best_score_}')\n",
    "print(f'Best params:{grid1.best_params_}')\n",
    "print('')                                       \n",
    "# ==========================================================================\n",
    "pipe2 = Pipeline([('cv', CountVectorizer()),('mb', MultinomialNB())])\n",
    "\n",
    "pipe2_params = {'cv__max_features': range(100,1001,100),\n",
    "                'cv__stop_words':   [None,'english'],\n",
    "                'cv__ngram_range':  [(1,1),(1,2),(1,3)],\n",
    "              } \n",
    "\n",
    "grid2 = GridSearchCV(pipe2,pipe2_params,cv=5)\n",
    "grid2.fit(X_train, y_train)\n",
    "print(f'CountVectorizer+NaiveBayes:         {grid2.best_score_}')\n",
    "print(f'Best params:{grid2.best_params_}')\n",
    "print('')\n",
    "# ==========================================================================\n",
    "pipe3 = Pipeline([('cv', CountVectorizer()),('rf', RandomForestClassifier())])\n",
    "\n",
    "pipe3_params = {'cv__max_features': range(100,1001,100),\n",
    "                'cv__stop_words':   [None,'english'],\n",
    "                'cv__ngram_range':  [(1,1),(1,2),(1,3)],\n",
    "              } \n",
    "\n",
    "grid3 = GridSearchCV(pipe3,pipe3_params,cv=5)\n",
    "grid3.fit(X_train, y_train)\n",
    "print(f'CountVectorizer+RandomForest:       {grid3.best_score_}')\n",
    "print(f'Best params:{grid3.best_params_}')\n",
    "print('')\n",
    "# =========================================================================\n",
    "\n",
    "# TfidVectorizer with Logistic Regression, NaiveBayes, and RandomForest\n",
    "\n",
    "pipe4 = Pipeline([('tv', TfidfVectorizer()),('lr', LogisticRegression())])\n",
    "\n",
    "pipe4_params = {'tv__max_features': range(100,1001,100),\n",
    "                'tv__stop_words':   [None,'english'],\n",
    "                'tv__ngram_range':  [(1,1),(1,2),(1,3)],\n",
    "              } \n",
    "\n",
    "grid4 = GridSearchCV(pipe4,pipe4_params,cv=5)\n",
    "grid4.fit(X_train, y_train)\n",
    "print(f'TfidVectorizer+LogisticRegression:  {grid4.best_score_}')\n",
    "print(f'Best params:{grid4.best_params_}')\n",
    "print('')\n",
    "# ==========================================================================\n",
    "pipe5 = Pipeline([('tv', TfidfVectorizer()),('mb', MultinomialNB())])\n",
    "\n",
    "pipe5_params = {'tv__max_features': range(100,1001,100),\n",
    "                'tv__stop_words':   [None,'english'],\n",
    "                'tv__ngram_range':  [(1,1),(1,2),(1,3)],\n",
    "              } \n",
    "\n",
    "grid5 = GridSearchCV(pipe5,pipe5_params,cv=5)\n",
    "grid5.fit(X_train, y_train)\n",
    "print(f'TfidVectorizer+NaiveBayes:          {grid5.best_score_}')\n",
    "print(f'Best params:{grid5.best_params_}')\n",
    "print('')\n",
    "# ==========================================================================\n",
    "pipe6 = Pipeline([('tv', TfidfVectorizer()),('rf', RandomForestClassifier())])\n",
    "\n",
    "pipe6_params = {'tv__max_features': range(100,1001,100),\n",
    "                'tv__stop_words':   [None,'english'],\n",
    "                'tv__ngram_range':  [(1,1),(1,2),(1,3)],\n",
    "              } \n",
    "\n",
    "grid6 = GridSearchCV(pipe6,pipe6_params,cv=5)\n",
    "grid6.fit(X_train, y_train)\n",
    "print(f'TfidVectorizer+RandomForest:        {grid6.best_score_}')\n",
    "print(f'Best params:{grid6.best_params_}')\n",
    "print('')"
   ]
  },
  {
   "cell_type": "code",
   "execution_count": 218,
   "id": "3ae6a0f5-e8a2-4794-aaee-be091358a07c",
   "metadata": {},
   "outputs": [
    {
     "name": "stdout",
     "output_type": "stream",
     "text": [
      "Training Score: 0.9572981366459627\n",
      "Testing Score:  0.8947368421052632\n"
     ]
    }
   ],
   "source": [
    "# Check overfitting form best score model\n",
    "vc = TfidfVectorizer(max_features=900, ngram_range=(1,1), stop_words='english')\n",
    "X_train_vc = vc.fit_transform(X_train)\n",
    "X_test_vc  = vc.transform(X_test)\n",
    "lr = LogisticRegression()\n",
    "lr.fit(X_train_vc,y_train)\n",
    "print(f'Training Score: {lr.score(X_train_vc,y_train)}')\n",
    "print(f'Testing Score:  {lr.score(X_test_vc,y_test)}')"
   ]
  },
  {
   "cell_type": "code",
   "execution_count": 219,
   "id": "ce5b7315-4fd4-46f3-b9f2-b04691a100ae",
   "metadata": {},
   "outputs": [
    {
     "name": "stdout",
     "output_type": "stream",
     "text": [
      "\n",
      "Specifivity: 0.9371069182389937\n"
     ]
    },
    {
     "data": {
      "image/png": "[encoded data removed]",
      "text/plain": [
       "<Figure size 432x288 with 2 Axes>"
      ]
     },
     "metadata": {
      "needs_background": "light"
     },
     "output_type": "display_data"
    }
   ],
   "source": [
    "# Get predictions from best model\n",
    "# CounterVectorizer + LogisticRegression\n",
    "y_pred = grid1.predict(X_test)\n",
    "# Save confusion matrix values\n",
    "cm = confusion_matrix(y_test, y_pred)\n",
    "tn, fp, fn, tp = confusion_matrix(y_test, y_pred).ravel()\n",
    "# Calculate the specificity\n",
    "spec = tn/(tn+fp)\n",
    "print()\n",
    "print(f'Specifivity: {spec}')\n",
    "ConfusionMatrixDisplay(confusion_matrix=cm,\n",
    "                      display_labels=grid4.classes_).plot(cmap=plt.cm.Blues);"
   ]
  },
  {
   "cell_type": "markdown",
   "id": "1981f737-b314-43d6-b7e0-7be2806e1840",
   "metadata": {},
   "source": [
    "- More False-negative and Lesser True-negative compare to the First model"
   ]
  },
  {
   "cell_type": "markdown",
   "id": "e12ea161-bc4b-4639-ad9d-945cc1602d8a",
   "metadata": {
    "jp-MarkdownHeadingCollapsed": true,
    "tags": []
   },
   "source": [
    "### Error Analysis: Second Model"
   ]
  },
  {
   "cell_type": "code",
   "execution_count": 220,
   "id": "ce436733-9a82-4e96-8643-d64999f5587b",
   "metadata": {},
   "outputs": [],
   "source": [
    "# observe False negative rows"
   ]
  },
  {
   "cell_type": "code",
   "execution_count": 221,
   "id": "94c2c07f-03c4-4f21-8095-e5f49709a9ae",
   "metadata": {},
   "outputs": [
    {
     "data": {
      "text/html": [
       "<div>\n",
       "<style scoped>\n",
       "    .dataframe tbody tr th:only-of-type {\n",
       "        vertical-align: middle;\n",
       "    }\n",
       "\n",
       "    .dataframe tbody tr th {\n",
       "        vertical-align: top;\n",
       "    }\n",
       "\n",
       "    .dataframe thead th {\n",
       "        text-align: right;\n",
       "    }\n",
       "</style>\n",
       "<table border=\"1\" class=\"dataframe\">\n",
       "  <thead>\n",
       "    <tr style=\"text-align: right;\">\n",
       "      <th></th>\n",
       "      <th>is_nfl</th>\n",
       "      <th>predicted_values</th>\n",
       "      <th>predicted_probs</th>\n",
       "      <th>title</th>\n",
       "    </tr>\n",
       "  </thead>\n",
       "  <tbody>\n",
       "    <tr>\n",
       "      <th>1551</th>\n",
       "      <td>0</td>\n",
       "      <td>0</td>\n",
       "      <td>0.76</td>\n",
       "      <td>northwestern state point guard jalan west suff...</td>\n",
       "    </tr>\n",
       "    <tr>\n",
       "      <th>1274</th>\n",
       "      <td>0</td>\n",
       "      <td>1</td>\n",
       "      <td>0.79</td>\n",
       "      <td>vermonts josh speidel overcomes traumatic brai...</td>\n",
       "    </tr>\n",
       "    <tr>\n",
       "      <th>1036</th>\n",
       "      <td>0</td>\n",
       "      <td>1</td>\n",
       "      <td>0.83</td>\n",
       "      <td>denver post column ncaa as we know it is dead ...</td>\n",
       "    </tr>\n",
       "    <tr>\n",
       "      <th>1599</th>\n",
       "      <td>0</td>\n",
       "      <td>0</td>\n",
       "      <td>0.81</td>\n",
       "      <td>any division i or ii schools that dont give an...</td>\n",
       "    </tr>\n",
       "    <tr>\n",
       "      <th>834</th>\n",
       "      <td>0</td>\n",
       "      <td>1</td>\n",
       "      <td>0.75</td>\n",
       "      <td>the greatest pumpfake in football history</td>\n",
       "    </tr>\n",
       "    <tr>\n",
       "      <th>1212</th>\n",
       "      <td>0</td>\n",
       "      <td>1</td>\n",
       "      <td>0.73</td>\n",
       "      <td>oklahoma state gets postseason ban 3 years of ...</td>\n",
       "    </tr>\n",
       "    <tr>\n",
       "      <th>1432</th>\n",
       "      <td>0</td>\n",
       "      <td>1</td>\n",
       "      <td>0.94</td>\n",
       "      <td>that opening touchdown drive for michigan was ...</td>\n",
       "    </tr>\n",
       "    <tr>\n",
       "      <th>1382</th>\n",
       "      <td>0</td>\n",
       "      <td>0</td>\n",
       "      <td>0.91</td>\n",
       "      <td>help with my fathers thesis by giving us your ...</td>\n",
       "    </tr>\n",
       "    <tr>\n",
       "      <th>1483</th>\n",
       "      <td>0</td>\n",
       "      <td>0</td>\n",
       "      <td>0.72</td>\n",
       "      <td>serious if unc basketball athletes dont go to ...</td>\n",
       "    </tr>\n",
       "    <tr>\n",
       "      <th>1281</th>\n",
       "      <td>0</td>\n",
       "      <td>1</td>\n",
       "      <td>0.91</td>\n",
       "      <td>youngest coach in ncaa division 1 history</td>\n",
       "    </tr>\n",
       "    <tr>\n",
       "      <th>1383</th>\n",
       "      <td>0</td>\n",
       "      <td>1</td>\n",
       "      <td>0.76</td>\n",
       "      <td>unpopular opinion dont cry when you lose</td>\n",
       "    </tr>\n",
       "  </tbody>\n",
       "</table>\n",
       "</div>"
      ],
      "text/plain": [
       "      is_nfl  predicted_values  predicted_probs  \\\n",
       "1551       0                 0             0.76   \n",
       "1274       0                 1             0.79   \n",
       "1036       0                 1             0.83   \n",
       "1599       0                 0             0.81   \n",
       "834        0                 1             0.75   \n",
       "1212       0                 1             0.73   \n",
       "1432       0                 1             0.94   \n",
       "1382       0                 0             0.91   \n",
       "1483       0                 0             0.72   \n",
       "1281       0                 1             0.91   \n",
       "1383       0                 1             0.76   \n",
       "\n",
       "                                                  title  \n",
       "1551  northwestern state point guard jalan west suff...  \n",
       "1274  vermonts josh speidel overcomes traumatic brai...  \n",
       "1036  denver post column ncaa as we know it is dead ...  \n",
       "1599  any division i or ii schools that dont give an...  \n",
       "834           the greatest pumpfake in football history  \n",
       "1212  oklahoma state gets postseason ban 3 years of ...  \n",
       "1432  that opening touchdown drive for michigan was ...  \n",
       "1382  help with my fathers thesis by giving us your ...  \n",
       "1483  serious if unc basketball athletes dont go to ...  \n",
       "1281          youngest coach in ncaa division 1 history  \n",
       "1383           unpopular opinion dont cry when you lose  "
      ]
     },
     "execution_count": 221,
     "metadata": {},
     "output_type": "execute_result"
    }
   ],
   "source": [
    "# make y_test and y_prob dataframe\n",
    "pred_df = pd.DataFrame({'is_nfl': y_test, 'predicted_values': y_pred,\n",
    "                        'predicted_probs':\n",
    "                        grid3.predict_proba(X_test).round(2)[:,1]})\n",
    "\n",
    "# merge new dataframe to the original one\n",
    "df_results = pd.merge(pred_df, df['title'], left_index=True, right_index=True)\n",
    "\n",
    "# filter out False negative rows \n",
    "df_results[(df_results['is_nfl']==0) & (df_results['predicted_probs'] > 0.7)]"
   ]
  },
  {
   "cell_type": "code",
   "execution_count": 234,
   "id": "b48cfbfd-5a67-4c61-880b-1af18d41c647",
   "metadata": {},
   "outputs": [
    {
     "name": "stdout",
     "output_type": "stream",
     "text": [
      "that opening touchdown drive for michigan was almost too easy\n",
      "\n",
      "youngest coach in ncaa division 1 history\n"
     ]
    }
   ],
   "source": [
    "# Observe high predicted_probs fasle-negative\n",
    "print(df_results['title'][1432])\n",
    "print('')\n",
    "print(df_results['title'][1281])"
   ]
  },
  {
   "cell_type": "markdown",
   "id": "fb3dc4c0-c3c7-4d8d-b436-cd8f56b8564d",
   "metadata": {},
   "source": [
    "- After observing False Negative rows, we noticed that there are specific names that our model might not weighted it strong enough to be predictive  "
   ]
  },
  {
   "cell_type": "markdown",
   "id": "6fc8467e-fc7e-448a-94e3-463eb86ff857",
   "metadata": {
    "jp-MarkdownHeadingCollapsed": true,
    "tags": []
   },
   "source": [
    "### Third Model"
   ]
  },
  {
   "cell_type": "markdown",
   "id": "705f15ee-9355-4afe-98a0-f9d3c1dafecc",
   "metadata": {},
   "source": [
    "- Model 2 + Lemmatization"
   ]
  },
  {
   "cell_type": "code",
   "execution_count": 223,
   "id": "02418cc5-c0d5-411d-bff7-5ffb03dfcd94",
   "metadata": {},
   "outputs": [],
   "source": [
    "# Lemmatization\n",
    "X_train = X_train.apply(lambda x: \" \".join([Word(word).lemmatize() for word in x.split()]))"
   ]
  },
  {
   "cell_type": "code",
   "execution_count": 224,
   "id": "f8ef5af8-27b6-482e-a792-dc383450740e",
   "metadata": {},
   "outputs": [
    {
     "name": "stdout",
     "output_type": "stream",
     "text": [
      "CountVectorizer+LogisticRegression: 0.8835188369076704\n",
      "Best params:{'cv__max_features': 900, 'cv__ngram_range': (1, 1), 'cv__stop_words': None}\n",
      "\n",
      "CountVectorizer+NaiveBayes:         0.864908153108316\n",
      "Best params:{'cv__max_features': 1000, 'cv__ngram_range': (1, 1), 'cv__stop_words': None}\n",
      "\n",
      "CountVectorizer+RandomForest:       0.8586915211293096\n",
      "Best params:{'cv__max_features': 600, 'cv__ngram_range': (1, 1), 'cv__stop_words': 'english'}\n",
      "\n",
      "TfidfVectorizer+LogisticRegression:  0.8874068711730463\n",
      "Best params:{'tv__max_features': 1000, 'tv__ngram_range': (1, 1), 'tv__stop_words': 'english'}\n",
      "\n",
      "TfidfVectorizer+NaiveBayes:          0.8648991041534704\n",
      "Best params:{'tv__max_features': 1000, 'tv__ngram_range': (1, 1), 'tv__stop_words': None}\n",
      "\n",
      "TfidfVectorizer+RandomForest:        0.8586885048110278\n",
      "Best params:{'tv__max_features': 700, 'tv__ngram_range': (1, 1), 'tv__stop_words': 'english'}\n",
      "\n"
     ]
    }
   ],
   "source": [
    "# CountVectorizer with Logistic Regression, NaiveBayes, and RandomForest\n",
    "pipe1 = Pipeline([('cv', CountVectorizer()),('lr', LogisticRegression())])\n",
    "\n",
    "pipe1_params = {'cv__max_features': range(100,1001,100),\n",
    "                'cv__stop_words':   [None,'english'],\n",
    "                'cv__ngram_range':  [(1,1),(1,2),(1,3)],\n",
    "              } \n",
    "\n",
    "grid1 = GridSearchCV(pipe1,pipe1_params,cv=5)\n",
    "grid1.fit(X_train, y_train)\n",
    "print(f'CountVectorizer+LogisticRegression: {grid1.best_score_}')\n",
    "print(f'Best params:{grid1.best_params_}')\n",
    "print('')                                       \n",
    "# ==========================================================================\n",
    "pipe2 = Pipeline([('cv', CountVectorizer()),('mb', MultinomialNB())])\n",
    "\n",
    "pipe2_params = {'cv__max_features': range(100,1001,100),\n",
    "                'cv__stop_words':   [None,'english'],\n",
    "                'cv__ngram_range':  [(1,1),(1,2),(1,3)],\n",
    "              } \n",
    "\n",
    "grid2 = GridSearchCV(pipe2,pipe2_params,cv=5)\n",
    "grid2.fit(X_train, y_train)\n",
    "print(f'CountVectorizer+NaiveBayes:         {grid2.best_score_}')\n",
    "print(f'Best params:{grid2.best_params_}')\n",
    "print('')\n",
    "# ==========================================================================\n",
    "pipe3 = Pipeline([('cv', CountVectorizer()),('rf', RandomForestClassifier())])\n",
    "\n",
    "pipe3_params = {'cv__max_features': range(100,1001,100),\n",
    "                'cv__stop_words':   [None,'english'],\n",
    "                'cv__ngram_range':  [(1,1),(1,2),(1,3)],\n",
    "              } \n",
    "\n",
    "grid3 = GridSearchCV(pipe3,pipe3_params,cv=5)\n",
    "grid3.fit(X_train, y_train)\n",
    "print(f'CountVectorizer+RandomForest:       {grid3.best_score_}')\n",
    "print(f'Best params:{grid3.best_params_}')\n",
    "print('')\n",
    "# =========================================================================\n",
    "\n",
    "# TfidVectorizer with Logistic Regression, NaiveBayes, and RandomForest\n",
    "\n",
    "pipe4 = Pipeline([('tv', TfidfVectorizer()),('lr', LogisticRegression())])\n",
    "\n",
    "pipe4_params = {'tv__max_features': range(100,1001,100),\n",
    "                'tv__stop_words':   [None,'english'],\n",
    "                'tv__ngram_range':  [(1,1),(1,2),(1,3)],\n",
    "              } \n",
    "\n",
    "grid4 = GridSearchCV(pipe4,pipe4_params,cv=5)\n",
    "grid4.fit(X_train, y_train)\n",
    "print(f'TfidfVectorizer+LogisticRegression:  {grid4.best_score_}')\n",
    "print(f'Best params:{grid4.best_params_}')\n",
    "print('')\n",
    "# ==========================================================================\n",
    "pipe5 = Pipeline([('tv', TfidfVectorizer()),('mb', MultinomialNB())])\n",
    "\n",
    "pipe5_params = {'tv__max_features': range(100,1001,100),\n",
    "                'tv__stop_words':   [None,'english'],\n",
    "                'tv__ngram_range':  [(1,1),(1,2),(1,3)],\n",
    "              } \n",
    "\n",
    "grid5 = GridSearchCV(pipe5,pipe5_params,cv=5)\n",
    "grid5.fit(X_train, y_train)\n",
    "print(f'TfidfVectorizer+NaiveBayes:          {grid5.best_score_}')\n",
    "print(f'Best params:{grid5.best_params_}')\n",
    "print('')\n",
    "# ==========================================================================\n",
    "pipe6 = Pipeline([('tv', TfidfVectorizer()),('rf', RandomForestClassifier())])\n",
    "\n",
    "pipe6_params = {'tv__max_features': range(100,1001,100),\n",
    "                'tv__stop_words':   [None,'english'],\n",
    "                'tv__ngram_range':  [(1,1),(1,2),(1,3)],\n",
    "              } \n",
    "\n",
    "grid6 = GridSearchCV(pipe6,pipe6_params,cv=5)\n",
    "grid6.fit(X_train, y_train)\n",
    "print(f'TfidfVectorizer+RandomForest:        {grid6.best_score_}')\n",
    "print(f'Best params:{grid6.best_params_}')\n",
    "print('')"
   ]
  },
  {
   "cell_type": "code",
   "execution_count": 225,
   "id": "05ff36ac-dab0-4e85-bf7d-1ce1af97cf44",
   "metadata": {},
   "outputs": [
    {
     "name": "stdout",
     "output_type": "stream",
     "text": [
      "Training Score: 0.9611801242236024\n",
      "Testing Score:  0.8204334365325078\n"
     ]
    }
   ],
   "source": [
    "# Check overfitting form best score model\n",
    "vc = TfidfVectorizer(max_features=1000, ngram_range=(1,1), stop_words='english')\n",
    "X_train_vc = vc.fit_transform(X_train)\n",
    "X_test_vc  = vc.transform(X_test)\n",
    "lr = LogisticRegression()\n",
    "lr.fit(X_train_vc,y_train)\n",
    "print(f'Training Score: {lr.score(X_train_vc,y_train)}')\n",
    "print(f'Testing Score:  {lr.score(X_test_vc,y_test)}')"
   ]
  },
  {
   "cell_type": "code",
   "execution_count": 226,
   "id": "a1c39db3-545e-47e4-85c6-4994e626868c",
   "metadata": {},
   "outputs": [
    {
     "name": "stdout",
     "output_type": "stream",
     "text": [
      "\n",
      "Specifivity: 0.8742138364779874\n"
     ]
    },
    {
     "data": {
      "image/png": "[encoded data removed]",
      "text/plain": [
       "<Figure size 432x288 with 2 Axes>"
      ]
     },
     "metadata": {
      "needs_background": "light"
     },
     "output_type": "display_data"
    }
   ],
   "source": [
    "# Get predictions from best model\n",
    "# TfidVectorizer + LogisticRegression\n",
    "y_pred = grid4.predict(X_test)\n",
    "# Save confusion matrix values\n",
    "cm = confusion_matrix(y_test, y_pred)\n",
    "tn, fp, fn, tp = confusion_matrix(y_test, y_pred).ravel()\n",
    "# Calculate the specificity\n",
    "spec = tn/(tn+fp)\n",
    "print()\n",
    "print(f'Specifivity: {spec}')\n",
    "ConfusionMatrixDisplay(confusion_matrix=cm,\n",
    "                      display_labels=grid4.classes_).plot(cmap=plt.cm.Blues);"
   ]
  },
  {
   "cell_type": "markdown",
   "id": "fc8e8056-3124-4b7e-894f-89a20774084b",
   "metadata": {
    "jp-MarkdownHeadingCollapsed": true,
    "tags": []
   },
   "source": [
    "### Error Analysis: Third Model"
   ]
  },
  {
   "cell_type": "code",
   "execution_count": 227,
   "id": "c6fab571-0bc0-46e8-8cd3-21a98cc8e7f5",
   "metadata": {},
   "outputs": [
    {
     "data": {
      "text/html": [
       "<div>\n",
       "<style scoped>\n",
       "    .dataframe tbody tr th:only-of-type {\n",
       "        vertical-align: middle;\n",
       "    }\n",
       "\n",
       "    .dataframe tbody tr th {\n",
       "        vertical-align: top;\n",
       "    }\n",
       "\n",
       "    .dataframe thead th {\n",
       "        text-align: right;\n",
       "    }\n",
       "</style>\n",
       "<table border=\"1\" class=\"dataframe\">\n",
       "  <thead>\n",
       "    <tr style=\"text-align: right;\">\n",
       "      <th></th>\n",
       "      <th>is_nfl</th>\n",
       "      <th>predicted_values</th>\n",
       "      <th>predicted_probs</th>\n",
       "      <th>title</th>\n",
       "    </tr>\n",
       "  </thead>\n",
       "  <tbody>\n",
       "    <tr>\n",
       "      <th>1036</th>\n",
       "      <td>0</td>\n",
       "      <td>1</td>\n",
       "      <td>0.80</td>\n",
       "      <td>denver post column ncaa as we know it is dead ...</td>\n",
       "    </tr>\n",
       "    <tr>\n",
       "      <th>1599</th>\n",
       "      <td>0</td>\n",
       "      <td>0</td>\n",
       "      <td>0.82</td>\n",
       "      <td>any division i or ii schools that dont give an...</td>\n",
       "    </tr>\n",
       "    <tr>\n",
       "      <th>1199</th>\n",
       "      <td>0</td>\n",
       "      <td>1</td>\n",
       "      <td>0.73</td>\n",
       "      <td>week 256 oof</td>\n",
       "    </tr>\n",
       "    <tr>\n",
       "      <th>834</th>\n",
       "      <td>0</td>\n",
       "      <td>1</td>\n",
       "      <td>0.81</td>\n",
       "      <td>the greatest pumpfake in football history</td>\n",
       "    </tr>\n",
       "    <tr>\n",
       "      <th>1397</th>\n",
       "      <td>0</td>\n",
       "      <td>0</td>\n",
       "      <td>0.94</td>\n",
       "      <td>yahoo pick em tourney app glitch</td>\n",
       "    </tr>\n",
       "    <tr>\n",
       "      <th>1491</th>\n",
       "      <td>0</td>\n",
       "      <td>1</td>\n",
       "      <td>0.95</td>\n",
       "      <td>ayton or doncic 1st 2018 draft pick</td>\n",
       "    </tr>\n",
       "    <tr>\n",
       "      <th>1432</th>\n",
       "      <td>0</td>\n",
       "      <td>1</td>\n",
       "      <td>0.97</td>\n",
       "      <td>that opening touchdown drive for michigan was ...</td>\n",
       "    </tr>\n",
       "    <tr>\n",
       "      <th>878</th>\n",
       "      <td>0</td>\n",
       "      <td>1</td>\n",
       "      <td>0.71</td>\n",
       "      <td>im curious if i do good in first semester and ...</td>\n",
       "    </tr>\n",
       "    <tr>\n",
       "      <th>1281</th>\n",
       "      <td>0</td>\n",
       "      <td>1</td>\n",
       "      <td>0.91</td>\n",
       "      <td>youngest coach in ncaa division 1 history</td>\n",
       "    </tr>\n",
       "    <tr>\n",
       "      <th>1383</th>\n",
       "      <td>0</td>\n",
       "      <td>1</td>\n",
       "      <td>0.71</td>\n",
       "      <td>unpopular opinion dont cry when you lose</td>\n",
       "    </tr>\n",
       "  </tbody>\n",
       "</table>\n",
       "</div>"
      ],
      "text/plain": [
       "      is_nfl  predicted_values  predicted_probs  \\\n",
       "1036       0                 1             0.80   \n",
       "1599       0                 0             0.82   \n",
       "1199       0                 1             0.73   \n",
       "834        0                 1             0.81   \n",
       "1397       0                 0             0.94   \n",
       "1491       0                 1             0.95   \n",
       "1432       0                 1             0.97   \n",
       "878        0                 1             0.71   \n",
       "1281       0                 1             0.91   \n",
       "1383       0                 1             0.71   \n",
       "\n",
       "                                                  title  \n",
       "1036  denver post column ncaa as we know it is dead ...  \n",
       "1599  any division i or ii schools that dont give an...  \n",
       "1199                                       week 256 oof  \n",
       "834           the greatest pumpfake in football history  \n",
       "1397                   yahoo pick em tourney app glitch  \n",
       "1491                ayton or doncic 1st 2018 draft pick  \n",
       "1432  that opening touchdown drive for michigan was ...  \n",
       "878   im curious if i do good in first semester and ...  \n",
       "1281          youngest coach in ncaa division 1 history  \n",
       "1383           unpopular opinion dont cry when you lose  "
      ]
     },
     "execution_count": 227,
     "metadata": {},
     "output_type": "execute_result"
    }
   ],
   "source": [
    "# make y_test and y_prob dataframe\n",
    "pred_df = pd.DataFrame({'is_nfl': y_test, 'predicted_values': y_pred,\n",
    "                        'predicted_probs':\n",
    "                        grid3.predict_proba(X_test).round(2)[:,1]})\n",
    "\n",
    "# merge new dataframe to the original one\n",
    "df_results = pd.merge(pred_df, df['title'], left_index=True, right_index=True)\n",
    "\n",
    "# filter out False negative rows \n",
    "df_results[(df_results['is_nfl']==0) & (df_results['predicted_probs'] > 0.7)].sort_values"
   ]
  },
  {
   "cell_type": "code",
   "execution_count": 235,
   "id": "d85b58eb-8302-4def-afaa-b199edaac267",
   "metadata": {},
   "outputs": [
    {
     "name": "stdout",
     "output_type": "stream",
     "text": [
      "that opening touchdown drive for michigan was almost too easy\n",
      "\n",
      "ayton or doncic 1st 2018 draft pick\n"
     ]
    }
   ],
   "source": [
    "# Observe high predicted_probs fasle-negative\n",
    "print(df_results['title'][1432])\n",
    "print('')\n",
    "print(df_results['title'][1491])"
   ]
  },
  {
   "cell_type": "markdown",
   "id": "82e585f0-1577-4325-b09b-0fcea395b158",
   "metadata": {},
   "source": [
    "- Error seems to be the same with Second Model and Lemmatizing make prediction harder for the model"
   ]
  },
  {
   "cell_type": "markdown",
   "id": "80fecaaf-f6c7-4aa0-a806-7a5966e6e51c",
   "metadata": {
    "tags": []
   },
   "source": [
    "### Fourth Model"
   ]
  },
  {
   "cell_type": "markdown",
   "id": "d12251f2-45eb-403a-99d8-50b987dc7d1e",
   "metadata": {},
   "source": [
    "- Logistic Regression using various quantiative values"
   ]
  },
  {
   "cell_type": "code",
   "execution_count": 229,
   "id": "0ae9f230-5b9a-4d9a-b2b4-825e14251319",
   "metadata": {},
   "outputs": [],
   "source": [
    "## Number of words in the text ##\n",
    "df[\"num_words\"] = df[\"title\"].apply(lambda x: len(str(x).split()))\n",
    "\n",
    "## Number of unique words in the text ##\n",
    "df[\"num_unique_words\"] = df[\"title\"].apply(lambda x: len(set(str(x).split())))\n",
    "\n",
    "## Number of characters in the text ##\n",
    "df[\"num_chars\"] = df[\"title\"].apply(lambda x: len(str(x)))\n",
    "\n",
    "## Number of stopwords in the text ##\n",
    "df[\"num_stopwords\"] = df[\"title\"].apply(lambda x: len([w for w in str(x).lower().split() if w in eng_stopwords]))\n",
    "\n",
    "## Number of punctuations in the text ##\n",
    "df[\"num_punctuations\"] =df['title'].apply(lambda x: len([c for c in str(x) if c in string.punctuation]))\n",
    "\n",
    "\n",
    "## Average length of the words in the text ##\n",
    "df[\"mean_word_len\"] = df[\"title\"].apply(lambda x: np.mean([len(w) for w in str(x).split()]))\n"
   ]
  },
  {
   "cell_type": "code",
   "execution_count": 230,
   "id": "e3a7b530-abbc-40c1-b2b3-0291e219aec7",
   "metadata": {},
   "outputs": [],
   "source": [
    "# Set X and y\n",
    "X = df[['num_words', 'num_unique_words',\n",
    "       'num_chars', 'num_stopwords', 'num_punctuations', 'mean_word_len']]\n",
    "y = df['is_nfl']\n",
    "# Train (80%) Test (20%) split \n",
    "X_train, X_test, y_train, y_test = train_test_split(X, y, test_size=0.2, \n",
    "                                                    random_state=42,\n",
    "                                                    stratify=y)"
   ]
  },
  {
   "cell_type": "code",
   "execution_count": 231,
   "id": "eb3253ba-0efa-450b-bdfe-fdf21a0e64c7",
   "metadata": {},
   "outputs": [
    {
     "name": "stdout",
     "output_type": "stream",
     "text": [
      "Logistic Regression Intercept:      [0.21694774]\n",
      "Logistic Regression Coefficient(s): [[ 0.88260735  0.60622164  0.59296597 -0.75075728  0.31444703 -0.36971079]]\n",
      "Training accuracry:                 0.7104037267080745\n",
      "Testing accuracry:                  0.6965944272445821\n"
     ]
    }
   ],
   "source": [
    "# Instantiate our StandardScaler\n",
    "sc = StandardScaler()\n",
    "X_train_sc = sc.fit_transform(X_train) \n",
    "X_test_sc = sc.transform(X_test)\n",
    "# Instantiate LogisticRegression\n",
    "logreg =LogisticRegression()\n",
    "logreg.fit(X_train_sc, y_train)\n",
    "logreg.predict(X_test_sc)\n",
    "\n",
    "print(f'Logistic Regression Intercept:      {logreg.intercept_}')\n",
    "print(f'Logistic Regression Coefficient(s): {logreg.coef_}')\n",
    "print(f'Training accuracry:                 {logreg.score(X_train_sc, y_train)}')\n",
    "print(f'Testing accuracry:                  {logreg.score(X_test_sc, y_test)}')"
   ]
  },
  {
   "cell_type": "markdown",
   "id": "e656f13e-92a7-42a9-b11f-ab2a3a8614a7",
   "metadata": {},
   "source": [
    "- num_words has the highest coef."
   ]
  },
  {
   "cell_type": "code",
   "execution_count": 232,
   "id": "92210708-e514-45de-91c9-457d3d3a7d27",
   "metadata": {},
   "outputs": [
    {
     "data": {
      "image/png": "[encoded data removed]",
      "text/plain": [
       "<Figure size 432x288 with 2 Axes>"
      ]
     },
     "metadata": {
      "needs_background": "light"
     },
     "output_type": "display_data"
    }
   ],
   "source": [
    "y_preds_logreg = logreg.predict(X_test_sc)\n",
    "cm_logreg = confusion_matrix(y_test, y_preds_logreg)\n",
    "ConfusionMatrixDisplay(confusion_matrix=cm_logreg).plot();"
   ]
  },
  {
   "cell_type": "markdown",
   "id": "0b6cca80-7fc6-499e-9dbc-c49b7e04f29b",
   "metadata": {
    "tags": []
   },
   "source": [
    "### Error Analysis: Fourth Model"
   ]
  },
  {
   "cell_type": "code",
   "execution_count": 233,
   "id": "5b1ab234-bc49-4024-97c7-bb178d3c0c40",
   "metadata": {},
   "outputs": [
    {
     "data": {
      "text/html": [
       "<div>\n",
       "<style scoped>\n",
       "    .dataframe tbody tr th:only-of-type {\n",
       "        vertical-align: middle;\n",
       "    }\n",
       "\n",
       "    .dataframe tbody tr th {\n",
       "        vertical-align: top;\n",
       "    }\n",
       "\n",
       "    .dataframe thead th {\n",
       "        text-align: right;\n",
       "    }\n",
       "</style>\n",
       "<table border=\"1\" class=\"dataframe\">\n",
       "  <thead>\n",
       "    <tr style=\"text-align: right;\">\n",
       "      <th></th>\n",
       "      <th>is_nfl</th>\n",
       "      <th>predicted_values</th>\n",
       "      <th>predicted_probs</th>\n",
       "      <th>title</th>\n",
       "    </tr>\n",
       "  </thead>\n",
       "  <tbody>\n",
       "    <tr>\n",
       "      <th>1247</th>\n",
       "      <td>0</td>\n",
       "      <td>0</td>\n",
       "      <td>1.0</td>\n",
       "      <td>senior d1 spring sport athletes</td>\n",
       "    </tr>\n",
       "    <tr>\n",
       "      <th>1304</th>\n",
       "      <td>0</td>\n",
       "      <td>0</td>\n",
       "      <td>1.0</td>\n",
       "      <td>with apologies to notre dame</td>\n",
       "    </tr>\n",
       "    <tr>\n",
       "      <th>833</th>\n",
       "      <td>0</td>\n",
       "      <td>0</td>\n",
       "      <td>1.0</td>\n",
       "      <td>marvin harrison jr  emeka egbuka best wr duo i...</td>\n",
       "    </tr>\n",
       "    <tr>\n",
       "      <th>1386</th>\n",
       "      <td>0</td>\n",
       "      <td>0</td>\n",
       "      <td>1.0</td>\n",
       "      <td>ehab amin 04 for the ducks</td>\n",
       "    </tr>\n",
       "    <tr>\n",
       "      <th>1489</th>\n",
       "      <td>0</td>\n",
       "      <td>0</td>\n",
       "      <td>1.0</td>\n",
       "      <td>ncaa mens basketball highlights</td>\n",
       "    </tr>\n",
       "    <tr>\n",
       "      <th>...</th>\n",
       "      <td>...</td>\n",
       "      <td>...</td>\n",
       "      <td>...</td>\n",
       "      <td>...</td>\n",
       "    </tr>\n",
       "    <tr>\n",
       "      <th>841</th>\n",
       "      <td>0</td>\n",
       "      <td>0</td>\n",
       "      <td>1.0</td>\n",
       "      <td>weight room warriors the countrys freakiest co...</td>\n",
       "    </tr>\n",
       "    <tr>\n",
       "      <th>990</th>\n",
       "      <td>0</td>\n",
       "      <td>0</td>\n",
       "      <td>1.0</td>\n",
       "      <td>video game fans  ncaa 14 dynasty  season 2 uc ...</td>\n",
       "    </tr>\n",
       "    <tr>\n",
       "      <th>979</th>\n",
       "      <td>0</td>\n",
       "      <td>0</td>\n",
       "      <td>1.0</td>\n",
       "      <td>videogame fans  law school finals delayed rele...</td>\n",
       "    </tr>\n",
       "    <tr>\n",
       "      <th>1311</th>\n",
       "      <td>0</td>\n",
       "      <td>0</td>\n",
       "      <td>1.0</td>\n",
       "      <td>new to college basketball can someone explain ...</td>\n",
       "    </tr>\n",
       "    <tr>\n",
       "      <th>824</th>\n",
       "      <td>0</td>\n",
       "      <td>0</td>\n",
       "      <td>1.0</td>\n",
       "      <td>air force football program put on probation by...</td>\n",
       "    </tr>\n",
       "  </tbody>\n",
       "</table>\n",
       "<p>159 rows × 4 columns</p>\n",
       "</div>"
      ],
      "text/plain": [
       "      is_nfl  predicted_values  predicted_probs  \\\n",
       "1247       0                 0              1.0   \n",
       "1304       0                 0              1.0   \n",
       "833        0                 0              1.0   \n",
       "1386       0                 0              1.0   \n",
       "1489       0                 0              1.0   \n",
       "...      ...               ...              ...   \n",
       "841        0                 0              1.0   \n",
       "990        0                 0              1.0   \n",
       "979        0                 0              1.0   \n",
       "1311       0                 0              1.0   \n",
       "824        0                 0              1.0   \n",
       "\n",
       "                                                  title  \n",
       "1247                    senior d1 spring sport athletes  \n",
       "1304                       with apologies to notre dame  \n",
       "833   marvin harrison jr  emeka egbuka best wr duo i...  \n",
       "1386                         ehab amin 04 for the ducks  \n",
       "1489                    ncaa mens basketball highlights  \n",
       "...                                                 ...  \n",
       "841   weight room warriors the countrys freakiest co...  \n",
       "990   video game fans  ncaa 14 dynasty  season 2 uc ...  \n",
       "979   videogame fans  law school finals delayed rele...  \n",
       "1311  new to college basketball can someone explain ...  \n",
       "824   air force football program put on probation by...  \n",
       "\n",
       "[159 rows x 4 columns]"
      ]
     },
     "execution_count": 233,
     "metadata": {},
     "output_type": "execute_result"
    }
   ],
   "source": [
    "# make y_test and y_prob dataframe\n",
    "pred_df = pd.DataFrame({'is_nfl': y_test, 'predicted_values': y_pred,\n",
    "                        'predicted_probs':\n",
    "                        logreg.predict_proba(X_test).round(2)[:,1]})\n",
    "\n",
    "# merge new dataframe to the original one\n",
    "df_results = pd.merge(pred_df, df['title'], left_index=True, right_index=True)\n",
    "\n",
    "# filter out False negative rows \n",
    "df_results[(df_results['is_nfl']==0) & (df_results['predicted_probs'] > 0.7)]"
   ]
  },
  {
   "cell_type": "markdown",
   "id": "239a805a-40ca-4d6b-893f-9b88a6827c7d",
   "metadata": {},
   "source": [
    "- Using only quantiative values might not be great option with text data analysis, but there are no overfitting"
   ]
  }
 ],
 "metadata": {
  "kernelspec": {
   "display_name": "Python 3 (ipykernel)",
   "language": "python",
   "name": "python3"
  },
  "language_info": {
   "codemirror_mode": {
    "name": "ipython",
    "version": 3
   },
   "file_extension": ".py",
   "mimetype": "text/x-python",
   "name": "python",
   "nbconvert_exporter": "python",
   "pygments_lexer": "ipython3",
   "version": "3.9.12"
  }
 },
 "nbformat": 4,
 "nbformat_minor": 5
}
